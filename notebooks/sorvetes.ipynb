{
  "nbformat": 4,
  "nbformat_minor": 0,
  "metadata": {
    "colab": {
      "provenance": []
    },
    "kernelspec": {
      "name": "python3",
      "display_name": "Python 3"
    },
    "language_info": {
      "name": "python"
    }
  },
  "cells": [
    {
      "cell_type": "code",
      "execution_count": null,
      "metadata": {
        "colab": {
          "base_uri": "https://localhost:8080/"
        },
        "id": "klwLa2Es9IKa",
        "outputId": "d500b07d-ceeb-4538-a31c-a6e1f4dc1166"
      },
      "outputs": [
        {
          "output_type": "stream",
          "name": "stdout",
          "text": [
            "                  data_venda  temperatura  vendas_sorvete\n",
            "0 2025-01-27 23:35:57.222958    27.490802             137\n",
            "1 2025-01-28 23:35:57.222958    39.014286             193\n",
            "2 2025-01-29 23:35:57.222958    34.639879             173\n",
            "3 2025-01-30 23:35:57.222958    31.973170             149\n",
            "4 2025-01-31 23:35:57.222958    23.120373             114\n"
          ]
        }
      ],
      "source": [
        "import pandas as pd\n",
        "import numpy as np\n",
        "import os\n",
        "from datetime import datetime, timedelta\n",
        "\n",
        "# Criar uma pasta chamada inputs\n",
        "os.makedirs('inputs', exist_ok=True)\n",
        "\n",
        "# Gerar dados fictícios\n",
        "np.random.seed(42)\n",
        "temperaturas = np.random.uniform(20, 40, 100)\n",
        "vendas = temperaturas * 5 + np.random.normal(0, 5, 100)\n",
        "\n",
        "# Gerar datas: últimos 100 dias\n",
        "hoje = datetime.today()\n",
        "datas = [hoje - timedelta(days=i) for i in range(99, -1, -1)]  # do mais antigo para o mais recente\n",
        "\n",
        "# Criar DataFrame\n",
        "df = pd.DataFrame({\n",
        "    'data_venda': datas,\n",
        "    'temperatura': temperaturas,\n",
        "    'vendas_sorvete': vendas.astype(int)\n",
        "})\n",
        "\n",
        "print(df.head())\n",
        "\n",
        "# Salvar CSV\n",
        "df.to_csv('inputs/dados_sorvete.csv', index=False)"
      ]
    }
  ]
}